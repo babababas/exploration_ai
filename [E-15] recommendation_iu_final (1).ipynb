{
 "cells": [
  {
   "cell_type": "markdown",
   "id": "d8a197b8",
   "metadata": {},
   "source": [
    "# [E-15] 아이유팬이 좋아할 만한 다른 아티스트 찾기"
   ]
  },
  {
   "cell_type": "markdown",
   "id": "08338346",
   "metadata": {},
   "source": [
    "### 목차\n",
    "\n",
    "\n",
    "1. 라이브러리 Import \n",
    "2. 데이터 준비 & 전처리\n",
    "3. 분석해 봅시다.\n",
    "4. 내가 선호하는 영화를 5가지 골라서 ratings에 추가해 줍시다.\n",
    "5. CSR matrix를 직접 만들어 봅시다.\n",
    "6. als_model = AlternatingLeastSquares 모델을 직접 구성하여 훈련시켜 봅시다.\n",
    "7. 내가 선호하는 5가지 영화 중 하나와 그 외의 영화 하나를 골라 훈련된 모델이 예측한 나의 선호도를 파악해 보세요.\n",
    "8. 내가 좋아하는 영화와 비슷한 영화를 추천받아 봅시다.\n",
    "9. 내가 가장 좋아할 만한 영화들을 추천받아 봅시다.\n"
   ]
  },
  {
   "cell_type": "markdown",
   "id": "2cb0dafc",
   "metadata": {},
   "source": [
    "### 목표 \n",
    "\n",
    "<br> \n",
    "\n",
    "|평가문항|상세기준|\n",
    "|:---|:---|\n",
    "| 1. CSR matrix가 정상적으로 만들어졌다.| 사용자와 아이템 개수를 바탕으로 정확한 사이즈로 만들었다.|\n",
    "|2. MF 모델이 정상적으로 훈련되어 그럴듯한 추천이 이루어졌다.|사용자와 아이템 벡터 내적수치가 의미있게 형성되었다.|\n",
    "|3. 비슷한 영화 찾기와 유저에게 추천하기의 과정이 정상적으로 진행되었다.| MF모델이 예측한 유저 선호도 및 아이템간 유사도, 기여도가 의미있게 측정되었다.|\n",
    "\n",
    "<br>"
   ]
  },
  {
   "cell_type": "markdown",
   "id": "24543ea6",
   "metadata": {},
   "source": [
    "### (1) 라이브러리 import"
   ]
  },
  {
   "cell_type": "code",
   "execution_count": 1,
   "id": "ff1b874f",
   "metadata": {},
   "outputs": [],
   "source": [
    "import numpy as np\n",
    "import pandas as pd\n",
    "import os\n",
    "\n",
    "import scipy\n",
    "import implicit\n",
    "from scipy.sparse import csr_matrix\n",
    "from implicit.als import AlternatingLeastSquares"
   ]
  },
  {
   "cell_type": "markdown",
   "id": "19923d4f",
   "metadata": {},
   "source": [
    "### (2) 데이터 준비 & 전처리"
   ]
  },
  {
   "cell_type": "code",
   "execution_count": 2,
   "id": "a0dd28c4",
   "metadata": {},
   "outputs": [
    {
     "data": {
      "text/html": [
       "<div>\n",
       "<style scoped>\n",
       "    .dataframe tbody tr th:only-of-type {\n",
       "        vertical-align: middle;\n",
       "    }\n",
       "\n",
       "    .dataframe tbody tr th {\n",
       "        vertical-align: top;\n",
       "    }\n",
       "\n",
       "    .dataframe thead th {\n",
       "        text-align: right;\n",
       "    }\n",
       "</style>\n",
       "<table border=\"1\" class=\"dataframe\">\n",
       "  <thead>\n",
       "    <tr style=\"text-align: right;\">\n",
       "      <th></th>\n",
       "      <th>user_id</th>\n",
       "      <th>movie_id</th>\n",
       "      <th>ratings</th>\n",
       "      <th>timestamp</th>\n",
       "    </tr>\n",
       "  </thead>\n",
       "  <tbody>\n",
       "    <tr>\n",
       "      <th>0</th>\n",
       "      <td>1</td>\n",
       "      <td>1193</td>\n",
       "      <td>5</td>\n",
       "      <td>978300760</td>\n",
       "    </tr>\n",
       "    <tr>\n",
       "      <th>1</th>\n",
       "      <td>1</td>\n",
       "      <td>661</td>\n",
       "      <td>3</td>\n",
       "      <td>978302109</td>\n",
       "    </tr>\n",
       "    <tr>\n",
       "      <th>2</th>\n",
       "      <td>1</td>\n",
       "      <td>914</td>\n",
       "      <td>3</td>\n",
       "      <td>978301968</td>\n",
       "    </tr>\n",
       "    <tr>\n",
       "      <th>3</th>\n",
       "      <td>1</td>\n",
       "      <td>3408</td>\n",
       "      <td>4</td>\n",
       "      <td>978300275</td>\n",
       "    </tr>\n",
       "    <tr>\n",
       "      <th>4</th>\n",
       "      <td>1</td>\n",
       "      <td>2355</td>\n",
       "      <td>5</td>\n",
       "      <td>978824291</td>\n",
       "    </tr>\n",
       "  </tbody>\n",
       "</table>\n",
       "</div>"
      ],
      "text/plain": [
       "   user_id  movie_id  ratings  timestamp\n",
       "0        1      1193        5  978300760\n",
       "1        1       661        3  978302109\n",
       "2        1       914        3  978301968\n",
       "3        1      3408        4  978300275\n",
       "4        1      2355        5  978824291"
      ]
     },
     "execution_count": 2,
     "metadata": {},
     "output_type": "execute_result"
    }
   ],
   "source": [
    "rating_file_path=os.getenv('HOME') + '/aiffel/recommendata_iu/data/ml-1m/ratings.dat'\n",
    "# 사용할 컬럼\n",
    "ratings_cols = ['user_id', 'movie_id', 'ratings', 'timestamp']\n",
    "ratings = pd.read_csv(rating_file_path, sep='::', names=ratings_cols, engine='python', encoding = \"ISO-8859-1\")\n",
    "orginal_data_size = len(ratings)\n",
    "ratings.head()"
   ]
  },
  {
   "cell_type": "code",
   "execution_count": 3,
   "id": "c9d7e4d6",
   "metadata": {},
   "outputs": [
    {
     "name": "stdout",
     "output_type": "stream",
     "text": [
      "orginal_data_size: 1000209, filtered_data_size: 836478\n",
      "Ratio of Remaining Data is 83.63%\n"
     ]
    }
   ],
   "source": [
    "# Data filtering 3점 이상만 남깁니다.\n",
    "ratings = ratings[ratings['ratings']>=3]\n",
    "filtered_data_size = len(ratings)\n",
    "\n",
    "print(f'orginal_data_size: {orginal_data_size}, filtered_data_size: {filtered_data_size}')\n",
    "print(f'Ratio of Remaining Data is {filtered_data_size / orginal_data_size:.2%}')"
   ]
  },
  {
   "cell_type": "code",
   "execution_count": 4,
   "id": "0031a9b0",
   "metadata": {},
   "outputs": [
    {
     "data": {
      "text/html": [
       "<div>\n",
       "<style scoped>\n",
       "    .dataframe tbody tr th:only-of-type {\n",
       "        vertical-align: middle;\n",
       "    }\n",
       "\n",
       "    .dataframe tbody tr th {\n",
       "        vertical-align: top;\n",
       "    }\n",
       "\n",
       "    .dataframe thead th {\n",
       "        text-align: right;\n",
       "    }\n",
       "</style>\n",
       "<table border=\"1\" class=\"dataframe\">\n",
       "  <thead>\n",
       "    <tr style=\"text-align: right;\">\n",
       "      <th></th>\n",
       "      <th>user_id</th>\n",
       "      <th>movie_id</th>\n",
       "      <th>counts</th>\n",
       "      <th>timestamp</th>\n",
       "    </tr>\n",
       "  </thead>\n",
       "  <tbody>\n",
       "    <tr>\n",
       "      <th>0</th>\n",
       "      <td>1</td>\n",
       "      <td>1193</td>\n",
       "      <td>5</td>\n",
       "      <td>978300760</td>\n",
       "    </tr>\n",
       "    <tr>\n",
       "      <th>1</th>\n",
       "      <td>1</td>\n",
       "      <td>661</td>\n",
       "      <td>3</td>\n",
       "      <td>978302109</td>\n",
       "    </tr>\n",
       "    <tr>\n",
       "      <th>2</th>\n",
       "      <td>1</td>\n",
       "      <td>914</td>\n",
       "      <td>3</td>\n",
       "      <td>978301968</td>\n",
       "    </tr>\n",
       "    <tr>\n",
       "      <th>3</th>\n",
       "      <td>1</td>\n",
       "      <td>3408</td>\n",
       "      <td>4</td>\n",
       "      <td>978300275</td>\n",
       "    </tr>\n",
       "    <tr>\n",
       "      <th>4</th>\n",
       "      <td>1</td>\n",
       "      <td>2355</td>\n",
       "      <td>5</td>\n",
       "      <td>978824291</td>\n",
       "    </tr>\n",
       "    <tr>\n",
       "      <th>...</th>\n",
       "      <td>...</td>\n",
       "      <td>...</td>\n",
       "      <td>...</td>\n",
       "      <td>...</td>\n",
       "    </tr>\n",
       "    <tr>\n",
       "      <th>1000203</th>\n",
       "      <td>6040</td>\n",
       "      <td>1090</td>\n",
       "      <td>3</td>\n",
       "      <td>956715518</td>\n",
       "    </tr>\n",
       "    <tr>\n",
       "      <th>1000205</th>\n",
       "      <td>6040</td>\n",
       "      <td>1094</td>\n",
       "      <td>5</td>\n",
       "      <td>956704887</td>\n",
       "    </tr>\n",
       "    <tr>\n",
       "      <th>1000206</th>\n",
       "      <td>6040</td>\n",
       "      <td>562</td>\n",
       "      <td>5</td>\n",
       "      <td>956704746</td>\n",
       "    </tr>\n",
       "    <tr>\n",
       "      <th>1000207</th>\n",
       "      <td>6040</td>\n",
       "      <td>1096</td>\n",
       "      <td>4</td>\n",
       "      <td>956715648</td>\n",
       "    </tr>\n",
       "    <tr>\n",
       "      <th>1000208</th>\n",
       "      <td>6040</td>\n",
       "      <td>1097</td>\n",
       "      <td>4</td>\n",
       "      <td>956715569</td>\n",
       "    </tr>\n",
       "  </tbody>\n",
       "</table>\n",
       "<p>836478 rows × 4 columns</p>\n",
       "</div>"
      ],
      "text/plain": [
       "         user_id  movie_id  counts  timestamp\n",
       "0              1      1193       5  978300760\n",
       "1              1       661       3  978302109\n",
       "2              1       914       3  978301968\n",
       "3              1      3408       4  978300275\n",
       "4              1      2355       5  978824291\n",
       "...          ...       ...     ...        ...\n",
       "1000203     6040      1090       3  956715518\n",
       "1000205     6040      1094       5  956704887\n",
       "1000206     6040       562       5  956704746\n",
       "1000207     6040      1096       4  956715648\n",
       "1000208     6040      1097       4  956715569\n",
       "\n",
       "[836478 rows x 4 columns]"
      ]
     },
     "execution_count": 4,
     "metadata": {},
     "output_type": "execute_result"
    }
   ],
   "source": [
    "# ratings 컬럼의 이름을 counts로 바꿉니다.\n",
    "ratings.rename(columns={'ratings':'counts'}, inplace=True)\n",
    "ratings"
   ]
  },
  {
   "cell_type": "code",
   "execution_count": 5,
   "id": "4a6b2255",
   "metadata": {
    "scrolled": true
   },
   "outputs": [
    {
     "data": {
      "text/html": [
       "<div>\n",
       "<style scoped>\n",
       "    .dataframe tbody tr th:only-of-type {\n",
       "        vertical-align: middle;\n",
       "    }\n",
       "\n",
       "    .dataframe tbody tr th {\n",
       "        vertical-align: top;\n",
       "    }\n",
       "\n",
       "    .dataframe thead th {\n",
       "        text-align: right;\n",
       "    }\n",
       "</style>\n",
       "<table border=\"1\" class=\"dataframe\">\n",
       "  <thead>\n",
       "    <tr style=\"text-align: right;\">\n",
       "      <th></th>\n",
       "      <th>movie_id</th>\n",
       "      <th>title</th>\n",
       "      <th>genre</th>\n",
       "    </tr>\n",
       "  </thead>\n",
       "  <tbody>\n",
       "    <tr>\n",
       "      <th>0</th>\n",
       "      <td>1</td>\n",
       "      <td>Toy Story (1995)</td>\n",
       "      <td>Animation|Children's|Comedy</td>\n",
       "    </tr>\n",
       "    <tr>\n",
       "      <th>1</th>\n",
       "      <td>2</td>\n",
       "      <td>Jumanji (1995)</td>\n",
       "      <td>Adventure|Children's|Fantasy</td>\n",
       "    </tr>\n",
       "    <tr>\n",
       "      <th>2</th>\n",
       "      <td>3</td>\n",
       "      <td>Grumpier Old Men (1995)</td>\n",
       "      <td>Comedy|Romance</td>\n",
       "    </tr>\n",
       "    <tr>\n",
       "      <th>3</th>\n",
       "      <td>4</td>\n",
       "      <td>Waiting to Exhale (1995)</td>\n",
       "      <td>Comedy|Drama</td>\n",
       "    </tr>\n",
       "    <tr>\n",
       "      <th>4</th>\n",
       "      <td>5</td>\n",
       "      <td>Father of the Bride Part II (1995)</td>\n",
       "      <td>Comedy</td>\n",
       "    </tr>\n",
       "  </tbody>\n",
       "</table>\n",
       "</div>"
      ],
      "text/plain": [
       "   movie_id                               title                         genre\n",
       "0         1                    Toy Story (1995)   Animation|Children's|Comedy\n",
       "1         2                      Jumanji (1995)  Adventure|Children's|Fantasy\n",
       "2         3             Grumpier Old Men (1995)                Comedy|Romance\n",
       "3         4            Waiting to Exhale (1995)                  Comedy|Drama\n",
       "4         5  Father of the Bride Part II (1995)                        Comedy"
      ]
     },
     "execution_count": 5,
     "metadata": {},
     "output_type": "execute_result"
    }
   ],
   "source": [
    "# 영화 제목을 보기 위해 메타 데이터를 읽어옵니다.\n",
    "movie_file_path=os.getenv('HOME') + '/aiffel/recommendata_iu/data/ml-1m/movies.dat'\n",
    "cols = ['movie_id', 'title', 'genre'] \n",
    "movies = pd.read_csv(movie_file_path, sep='::', names=cols, engine='python', encoding='ISO-8859-1')\n",
    "movies.head()"
   ]
  },
  {
   "cell_type": "code",
   "execution_count": 6,
   "id": "42ae83a0",
   "metadata": {},
   "outputs": [
    {
     "data": {
      "text/html": [
       "<div>\n",
       "<style scoped>\n",
       "    .dataframe tbody tr th:only-of-type {\n",
       "        vertical-align: middle;\n",
       "    }\n",
       "\n",
       "    .dataframe tbody tr th {\n",
       "        vertical-align: top;\n",
       "    }\n",
       "\n",
       "    .dataframe thead th {\n",
       "        text-align: right;\n",
       "    }\n",
       "</style>\n",
       "<table border=\"1\" class=\"dataframe\">\n",
       "  <thead>\n",
       "    <tr style=\"text-align: right;\">\n",
       "      <th></th>\n",
       "      <th>movie_id</th>\n",
       "      <th>title</th>\n",
       "      <th>genre</th>\n",
       "    </tr>\n",
       "  </thead>\n",
       "  <tbody>\n",
       "    <tr>\n",
       "      <th>3878</th>\n",
       "      <td>3948</td>\n",
       "      <td>Meet the Parents (2000)</td>\n",
       "      <td>Comedy</td>\n",
       "    </tr>\n",
       "    <tr>\n",
       "      <th>3879</th>\n",
       "      <td>3949</td>\n",
       "      <td>Requiem for a Dream (2000)</td>\n",
       "      <td>Drama</td>\n",
       "    </tr>\n",
       "    <tr>\n",
       "      <th>3880</th>\n",
       "      <td>3950</td>\n",
       "      <td>Tigerland (2000)</td>\n",
       "      <td>Drama</td>\n",
       "    </tr>\n",
       "    <tr>\n",
       "      <th>3881</th>\n",
       "      <td>3951</td>\n",
       "      <td>Two Family House (2000)</td>\n",
       "      <td>Drama</td>\n",
       "    </tr>\n",
       "    <tr>\n",
       "      <th>3882</th>\n",
       "      <td>3952</td>\n",
       "      <td>Contender, The (2000)</td>\n",
       "      <td>Drama|Thriller</td>\n",
       "    </tr>\n",
       "  </tbody>\n",
       "</table>\n",
       "</div>"
      ],
      "text/plain": [
       "      movie_id                       title           genre\n",
       "3878      3948     Meet the Parents (2000)          Comedy\n",
       "3879      3949  Requiem for a Dream (2000)           Drama\n",
       "3880      3950            Tigerland (2000)           Drama\n",
       "3881      3951     Two Family House (2000)           Drama\n",
       "3882      3952       Contender, The (2000)  Drama|Thriller"
      ]
     },
     "execution_count": 6,
     "metadata": {},
     "output_type": "execute_result"
    }
   ],
   "source": [
    "movies.tail()"
   ]
  },
  {
   "cell_type": "markdown",
   "id": "2d77b95a",
   "metadata": {},
   "source": [
    "### (3) 분석해 봅시다.\n",
    "\n",
    "- ratings에 있는 유니크한 영화 개수\n",
    "- ratings에 있는 유니크한 사용자 수\n",
    "- 가장 인기 있는 영화 30개(인기순)"
   ]
  },
  {
   "cell_type": "code",
   "execution_count": 7,
   "id": "45d85787",
   "metadata": {},
   "outputs": [
    {
     "data": {
      "text/plain": [
       "3628"
      ]
     },
     "execution_count": 7,
     "metadata": {},
     "output_type": "execute_result"
    }
   ],
   "source": [
    "# ratings에 있는 유니크한 영화 개수\n",
    "ratings['movie_id'].nunique()"
   ]
  },
  {
   "cell_type": "code",
   "execution_count": 8,
   "id": "3a7ff096",
   "metadata": {},
   "outputs": [
    {
     "data": {
      "text/plain": [
       "6039"
      ]
     },
     "execution_count": 8,
     "metadata": {},
     "output_type": "execute_result"
    }
   ],
   "source": [
    "# ratings에 있는 유니크한 사용자 수\n",
    "ratings['user_id'].nunique()"
   ]
  },
  {
   "cell_type": "code",
   "execution_count": 9,
   "id": "afbab03e",
   "metadata": {
    "scrolled": true
   },
   "outputs": [],
   "source": [
    "# 가장 인기 있는 영화 30개(인기순)\n",
    "movie_count = ratings.groupby('movie_id')['user_id'].count()\n",
    "movie_top30 = movie_count.sort_values(ascending=False).head(30)"
   ]
  },
  {
   "cell_type": "code",
   "execution_count": 10,
   "id": "9ca5c3a6",
   "metadata": {
    "scrolled": false
   },
   "outputs": [
    {
     "name": "stdout",
     "output_type": "stream",
     "text": [
      "American Beauty (1999) 3211\n",
      "Star Wars: Episode IV - A New Hope (1977) 2910\n",
      "Star Wars: Episode V - The Empire Strikes Back (1980) 2885\n",
      "Star Wars: Episode VI - Return of the Jedi (1983) 2716\n",
      "Saving Private Ryan (1998) 2561\n",
      "Terminator 2: Judgment Day (1991) 2509\n",
      "Silence of the Lambs, The (1991) 2498\n",
      "Raiders of the Lost Ark (1981) 2473\n",
      "Back to the Future (1985) 2460\n",
      "Matrix, The (1999) 2434\n",
      "Jurassic Park (1993) 2413\n",
      "Sixth Sense, The (1999) 2385\n",
      "Fargo (1996) 2371\n",
      "Braveheart (1995) 2314\n",
      "Men in Black (1997) 2297\n",
      "Schindler's List (1993) 2257\n",
      "Princess Bride, The (1987) 2252\n",
      "Shakespeare in Love (1998) 2213\n",
      "L.A. Confidential (1997) 2210\n",
      "Shawshank Redemption, The (1994) 2194\n",
      "Godfather, The (1972) 2167\n",
      "Groundhog Day (1993) 2121\n",
      "E.T. the Extra-Terrestrial (1982) 2102\n",
      "Being John Malkovich (1999) 2066\n",
      "Ghostbusters (1984) 2051\n",
      "Pulp Fiction (1994) 2030\n",
      "Forrest Gump (1994) 2022\n",
      "Terminator, The (1984) 2019\n",
      "Toy Story (1995) 2000\n",
      "Fugitive, The (1993) 1941\n"
     ]
    }
   ],
   "source": [
    "# 30개의 영화 누적 count수\n",
    "for i, k in zip(movie_top30.index, movie_top30.values):\n",
    "    print(movies[movies['movie_id']==i]['title'].values[0],k)"
   ]
  },
  {
   "cell_type": "code",
   "execution_count": 11,
   "id": "aeb0c083",
   "metadata": {
    "scrolled": true
   },
   "outputs": [
    {
     "data": {
      "text/plain": [
       "count    6039.000000\n",
       "mean      138.512668\n",
       "std       156.241599\n",
       "min         1.000000\n",
       "25%        38.000000\n",
       "50%        81.000000\n",
       "75%       177.000000\n",
       "max      1968.000000\n",
       "Name: movie_id, dtype: float64"
      ]
     },
     "execution_count": 11,
     "metadata": {},
     "output_type": "execute_result"
    }
   ],
   "source": [
    "# 유저별 영화를 몇번 봤는지에 대한 통계\n",
    "user_count = ratings.groupby('user_id')['movie_id'].count()\n",
    "user_count.describe()"
   ]
  },
  {
   "cell_type": "code",
   "execution_count": 12,
   "id": "5bc20b89",
   "metadata": {
    "scrolled": true
   },
   "outputs": [
    {
     "data": {
      "text/plain": [
       "count    6039.000000\n",
       "mean        4.055970\n",
       "std         0.432143\n",
       "min         3.000000\n",
       "25%         4.000000\n",
       "50%         4.000000\n",
       "75%         4.000000\n",
       "max         5.000000\n",
       "Name: counts, dtype: float64"
      ]
     },
     "execution_count": 12,
     "metadata": {},
     "output_type": "execute_result"
    }
   ],
   "source": [
    "# 유저별 count횟수 중앙값에 대한 통계\n",
    "user_median = ratings.groupby('user_id')['counts'].median()\n",
    "user_median.describe()"
   ]
  },
  {
   "cell_type": "markdown",
   "id": "0fd47feb",
   "metadata": {},
   "source": [
    "### (4) 내가 선호하는 영화를 5가지 골라서 ratings에 추가해 줍시다."
   ]
  },
  {
   "cell_type": "code",
   "execution_count": 13,
   "id": "a08df7b1",
   "metadata": {
    "scrolled": false
   },
   "outputs": [
    {
     "data": {
      "text/html": [
       "<div>\n",
       "<style scoped>\n",
       "    .dataframe tbody tr th:only-of-type {\n",
       "        vertical-align: middle;\n",
       "    }\n",
       "\n",
       "    .dataframe tbody tr th {\n",
       "        vertical-align: top;\n",
       "    }\n",
       "\n",
       "    .dataframe thead th {\n",
       "        text-align: right;\n",
       "    }\n",
       "</style>\n",
       "<table border=\"1\" class=\"dataframe\">\n",
       "  <thead>\n",
       "    <tr style=\"text-align: right;\">\n",
       "      <th></th>\n",
       "      <th>user_id</th>\n",
       "      <th>movie_id</th>\n",
       "      <th>counts</th>\n",
       "      <th>timestamp</th>\n",
       "    </tr>\n",
       "  </thead>\n",
       "  <tbody>\n",
       "    <tr>\n",
       "      <th>1000203</th>\n",
       "      <td>6040</td>\n",
       "      <td>1090</td>\n",
       "      <td>3</td>\n",
       "      <td>956715518.0</td>\n",
       "    </tr>\n",
       "    <tr>\n",
       "      <th>1000205</th>\n",
       "      <td>6040</td>\n",
       "      <td>1094</td>\n",
       "      <td>5</td>\n",
       "      <td>956704887.0</td>\n",
       "    </tr>\n",
       "    <tr>\n",
       "      <th>1000206</th>\n",
       "      <td>6040</td>\n",
       "      <td>562</td>\n",
       "      <td>5</td>\n",
       "      <td>956704746.0</td>\n",
       "    </tr>\n",
       "    <tr>\n",
       "      <th>1000207</th>\n",
       "      <td>6040</td>\n",
       "      <td>1096</td>\n",
       "      <td>4</td>\n",
       "      <td>956715648.0</td>\n",
       "    </tr>\n",
       "    <tr>\n",
       "      <th>1000208</th>\n",
       "      <td>6040</td>\n",
       "      <td>1097</td>\n",
       "      <td>4</td>\n",
       "      <td>956715569.0</td>\n",
       "    </tr>\n",
       "    <tr>\n",
       "      <th>0</th>\n",
       "      <td>6041</td>\n",
       "      <td>858</td>\n",
       "      <td>5</td>\n",
       "      <td>NaN</td>\n",
       "    </tr>\n",
       "    <tr>\n",
       "      <th>1</th>\n",
       "      <td>6041</td>\n",
       "      <td>1</td>\n",
       "      <td>5</td>\n",
       "      <td>NaN</td>\n",
       "    </tr>\n",
       "    <tr>\n",
       "      <th>2</th>\n",
       "      <td>6041</td>\n",
       "      <td>480</td>\n",
       "      <td>5</td>\n",
       "      <td>NaN</td>\n",
       "    </tr>\n",
       "    <tr>\n",
       "      <th>3</th>\n",
       "      <td>6041</td>\n",
       "      <td>110</td>\n",
       "      <td>5</td>\n",
       "      <td>NaN</td>\n",
       "    </tr>\n",
       "    <tr>\n",
       "      <th>4</th>\n",
       "      <td>6041</td>\n",
       "      <td>2396</td>\n",
       "      <td>5</td>\n",
       "      <td>NaN</td>\n",
       "    </tr>\n",
       "  </tbody>\n",
       "</table>\n",
       "</div>"
      ],
      "text/plain": [
       "         user_id  movie_id  counts    timestamp\n",
       "1000203     6040      1090       3  956715518.0\n",
       "1000205     6040      1094       5  956704887.0\n",
       "1000206     6040       562       5  956704746.0\n",
       "1000207     6040      1096       4  956715648.0\n",
       "1000208     6040      1097       4  956715569.0\n",
       "0           6041       858       5          NaN\n",
       "1           6041         1       5          NaN\n",
       "2           6041       480       5          NaN\n",
       "3           6041       110       5          NaN\n",
       "4           6041      2396       5          NaN"
      ]
     },
     "execution_count": 13,
     "metadata": {},
     "output_type": "execute_result"
    }
   ],
   "source": [
    "# 본인이 좋아하시는 아티스트 데이터로 바꿔서 추가하셔도 됩니다! 단, 이름은 꼭 데이터셋에 있는 것과 동일하게 맞춰주세요. \n",
    "\n",
    "my_favorite_name = ['Godfather, The (1972)','Toy Story (1995)','Jurassic Park (1993)','Braveheart (1995)','Shakespeare in Love (1998)']\n",
    "my_favorite = [movies[movies['title'] == name]['movie_id'].values[0] for name in my_favorite_name]\n",
    "\n",
    "# jyp(맨끝에 추가되는 id)이라는 user_id가 위 영화를 5회씩 봤다고 가정하겠습니다.\n",
    "jyp = max(ratings['user_id']) + 1\n",
    "my_playlist = pd.DataFrame({'user_id': [jyp]*5, 'movie_id': my_favorite, 'counts':[5]*5})\n",
    "\n",
    "if not ratings.isin({'user_id':[jyp]})['user_id'].any():  # user_id에 'zimin'이라는 데이터가 없다면\n",
    "    ratings = ratings.append(my_playlist)                 # 위에 임의로 만든 my_favorite 데이터를 추가해 줍니다. \n",
    "ratings.tail(10)       # 잘 추가되었는지 확인해 봅시다."
   ]
  },
  {
   "cell_type": "code",
   "execution_count": 14,
   "id": "45060d11",
   "metadata": {},
   "outputs": [
    {
     "data": {
      "text/html": [
       "<div>\n",
       "<style scoped>\n",
       "    .dataframe tbody tr th:only-of-type {\n",
       "        vertical-align: middle;\n",
       "    }\n",
       "\n",
       "    .dataframe tbody tr th {\n",
       "        vertical-align: top;\n",
       "    }\n",
       "\n",
       "    .dataframe thead th {\n",
       "        text-align: right;\n",
       "    }\n",
       "</style>\n",
       "<table border=\"1\" class=\"dataframe\">\n",
       "  <thead>\n",
       "    <tr style=\"text-align: right;\">\n",
       "      <th></th>\n",
       "      <th>user_id</th>\n",
       "      <th>movie_id</th>\n",
       "      <th>counts</th>\n",
       "      <th>timestamp</th>\n",
       "    </tr>\n",
       "  </thead>\n",
       "  <tbody>\n",
       "    <tr>\n",
       "      <th>0</th>\n",
       "      <td>1</td>\n",
       "      <td>1193</td>\n",
       "      <td>5</td>\n",
       "      <td>978300760.0</td>\n",
       "    </tr>\n",
       "    <tr>\n",
       "      <th>1</th>\n",
       "      <td>1</td>\n",
       "      <td>661</td>\n",
       "      <td>3</td>\n",
       "      <td>978302109.0</td>\n",
       "    </tr>\n",
       "    <tr>\n",
       "      <th>2</th>\n",
       "      <td>1</td>\n",
       "      <td>914</td>\n",
       "      <td>3</td>\n",
       "      <td>978301968.0</td>\n",
       "    </tr>\n",
       "    <tr>\n",
       "      <th>3</th>\n",
       "      <td>1</td>\n",
       "      <td>3408</td>\n",
       "      <td>4</td>\n",
       "      <td>978300275.0</td>\n",
       "    </tr>\n",
       "    <tr>\n",
       "      <th>4</th>\n",
       "      <td>1</td>\n",
       "      <td>2355</td>\n",
       "      <td>5</td>\n",
       "      <td>978824291.0</td>\n",
       "    </tr>\n",
       "  </tbody>\n",
       "</table>\n",
       "</div>"
      ],
      "text/plain": [
       "   user_id  movie_id  counts    timestamp\n",
       "0        1      1193       5  978300760.0\n",
       "1        1       661       3  978302109.0\n",
       "2        1       914       3  978301968.0\n",
       "3        1      3408       4  978300275.0\n",
       "4        1      2355       5  978824291.0"
      ]
     },
     "execution_count": 14,
     "metadata": {},
     "output_type": "execute_result"
    }
   ],
   "source": [
    "ratings.head()"
   ]
  },
  {
   "cell_type": "markdown",
   "id": "e8af5fb6",
   "metadata": {},
   "source": [
    "### (5) CSR matrix를 직접 만들어 봅시다."
   ]
  },
  {
   "cell_type": "code",
   "execution_count": 15,
   "id": "04396271",
   "metadata": {},
   "outputs": [
    {
     "data": {
      "text/plain": [
       "<6042x3953 sparse matrix of type '<class 'numpy.int64'>'\n",
       "\twith 836483 stored elements in Compressed Sparse Row format>"
      ]
     },
     "execution_count": 15,
     "metadata": {},
     "output_type": "execute_result"
    }
   ],
   "source": [
    "# 실습 위에 설명보고 이해해서 만들어보기\n",
    "\n",
    "num_user = ratings['user_id'].nunique()\n",
    "num_movie = ratings['movie_id'].nunique()\n",
    "\n",
    "csr_data = csr_matrix((ratings['counts'], (ratings.user_id, ratings.movie_id)))\n",
    "csr_data"
   ]
  },
  {
   "cell_type": "markdown",
   "id": "e1757889",
   "metadata": {},
   "source": [
    "### (6) als_model = AlternatingLeastSquares 모델을 직접 구성하여 훈련시켜 봅시다."
   ]
  },
  {
   "cell_type": "code",
   "execution_count": 16,
   "id": "d8e25e9a",
   "metadata": {},
   "outputs": [],
   "source": [
    "# implicit 라이브러리에서 권장하고 있는 부분입니다. 학습 내용과는 무관합니다.\n",
    "os.environ['OPENBLAS_NUM_THREADS']='1'\n",
    "os.environ['KMP_DUPLICATE_LIB_OK']='True'\n",
    "os.environ['MKL_NUM_THREADS']='1'"
   ]
  },
  {
   "cell_type": "code",
   "execution_count": 17,
   "id": "1ae29acb",
   "metadata": {},
   "outputs": [],
   "source": [
    "# Implicit AlternatingLeastSquares 모델의 선언\n",
    "als_model = AlternatingLeastSquares(factors=100, regularization=0.01, use_gpu=False, iterations=15, dtype=np.float32)"
   ]
  },
  {
   "cell_type": "code",
   "execution_count": 18,
   "id": "d3f274b1",
   "metadata": {},
   "outputs": [
    {
     "data": {
      "text/plain": [
       "<3953x6042 sparse matrix of type '<class 'numpy.int64'>'\n",
       "\twith 836483 stored elements in Compressed Sparse Column format>"
      ]
     },
     "execution_count": 18,
     "metadata": {},
     "output_type": "execute_result"
    }
   ],
   "source": [
    "# als 모델은 input으로 (item X user 꼴의 matrix를 받기 때문에 Transpose해줍니다.)\n",
    "csr_data_transpose = csr_data.T\n",
    "csr_data_transpose"
   ]
  },
  {
   "cell_type": "code",
   "execution_count": 19,
   "id": "99a926b1",
   "metadata": {},
   "outputs": [
    {
     "data": {
      "application/vnd.jupyter.widget-view+json": {
       "model_id": "122488bd5e3d40a7ae422995d6501d57",
       "version_major": 2,
       "version_minor": 0
      },
      "text/plain": [
       "  0%|          | 0/15 [00:00<?, ?it/s]"
      ]
     },
     "metadata": {},
     "output_type": "display_data"
    }
   ],
   "source": [
    "# 모델 훈련\n",
    "als_model.fit(csr_data_transpose)"
   ]
  },
  {
   "cell_type": "markdown",
   "id": "11fa8968",
   "metadata": {},
   "source": [
    "### (7) 내가 선호하는 5가지 영화 중 하나와 그 외의 영화 하나를 골라 훈련된 모델이 예측한 나의 선호도를 파악해 보세요."
   ]
  },
  {
   "cell_type": "code",
   "execution_count": 20,
   "id": "715c9518",
   "metadata": {
    "scrolled": true
   },
   "outputs": [],
   "source": [
    "# 영화의 이름을 movie id로 바꿔주는 함수\n",
    "def movie_name_to_id(name):\n",
    "    return movies[movies['title']==name]['movie_id'].values[0]"
   ]
  },
  {
   "cell_type": "code",
   "execution_count": 21,
   "id": "0daca2c0",
   "metadata": {},
   "outputs": [],
   "source": [
    "my_vector, braveheart_vector = als_model.user_factors[6041], als_model.item_factors[movie_name_to_id('Braveheart (1995)')]"
   ]
  },
  {
   "cell_type": "code",
   "execution_count": 22,
   "id": "803b2d3e",
   "metadata": {
    "scrolled": false
   },
   "outputs": [
    {
     "data": {
      "text/plain": [
       "array([ 0.18362272,  0.71919525,  0.88010633,  0.37770355,  0.35041586,\n",
       "       -0.01760266,  0.19255184,  1.2648852 ,  0.07170111, -0.15745963,\n",
       "       -0.6001481 , -0.6889914 , -0.45533696,  0.698787  ,  0.45574895,\n",
       "       -0.11348509,  0.5427132 ,  0.6788932 , -0.38285357, -0.18065137,\n",
       "        0.03013318,  0.01011967,  0.71139437,  0.49023768, -0.1233808 ,\n",
       "       -0.52715707, -0.13601334, -0.07407475, -0.39211497, -0.4513541 ,\n",
       "       -0.00262596,  0.84975344, -0.7773483 , -0.35540462, -0.46521527,\n",
       "       -0.76043993, -0.5241687 ,  1.2168705 , -0.05560491,  0.52853584,\n",
       "        0.38879064, -0.6542066 ,  0.11133049,  0.17900462,  0.0498695 ,\n",
       "       -0.29193428, -0.43320826,  0.4725186 , -0.7858679 , -0.26883236,\n",
       "        0.8033665 ,  0.66465694,  0.01356362, -0.38192558, -0.11993349,\n",
       "        0.54138917,  0.35937342, -0.73470116, -0.44599196, -0.11863131,\n",
       "        0.45036456, -0.5849576 ,  0.2637718 ,  0.31661585,  0.26305282,\n",
       "       -0.15779781, -0.34162092, -0.22101809, -0.73628956,  0.00751294,\n",
       "       -0.19510603,  0.7945202 ,  0.8333756 , -1.0254583 ,  1.0584656 ,\n",
       "        0.69930166, -0.56441385,  0.42096502, -1.1397598 ,  0.39750707,\n",
       "        1.1267216 ,  0.7834987 ,  0.026272  ,  0.743891  , -0.4795373 ,\n",
       "       -0.93545085, -0.11032487,  0.87615883, -0.4953392 , -0.72242355,\n",
       "        0.37064353, -0.8176966 , -0.33038554, -0.2588306 , -0.6070806 ,\n",
       "       -0.39212984,  0.02974016,  0.02905529,  0.14865854, -0.46789038],\n",
       "      dtype=float32)"
      ]
     },
     "execution_count": 22,
     "metadata": {},
     "output_type": "execute_result"
    }
   ],
   "source": [
    "# 나의 벡터\n",
    "my_vector"
   ]
  },
  {
   "cell_type": "code",
   "execution_count": 23,
   "id": "1b87cbb1",
   "metadata": {
    "scrolled": false
   },
   "outputs": [
    {
     "data": {
      "text/plain": [
       "array([ 2.3918990e-02,  1.9918995e-02, -2.9937556e-02,  1.1442074e-02,\n",
       "        1.2018979e-02,  5.5637690e-03,  7.5488575e-03,  2.7611108e-02,\n",
       "        3.6009159e-02, -4.3686554e-03, -3.8630579e-02,  6.4635472e-03,\n",
       "       -2.4550511e-02,  2.4759108e-02,  1.0139480e-02,  1.5834879e-02,\n",
       "       -2.4042796e-02,  4.3207772e-02, -4.4050883e-03, -1.2810876e-02,\n",
       "        1.9384857e-02, -2.7148915e-02,  5.6475163e-03,  1.2837477e-02,\n",
       "        8.5672429e-03, -1.3381398e-02,  3.9438386e-03,  2.0984707e-03,\n",
       "        2.2410348e-02,  1.6701362e-03, -1.4576701e-02,  2.1249786e-02,\n",
       "        2.3195376e-03, -2.8802831e-02, -9.9504797e-04, -1.3594512e-02,\n",
       "       -3.8310049e-05,  4.9550619e-02, -5.2059470e-03,  3.5670932e-02,\n",
       "        2.2514261e-02, -1.8343391e-02,  3.4447625e-02,  1.9662390e-02,\n",
       "        1.8273041e-02,  4.5830183e-02,  5.2752234e-03,  3.9275065e-02,\n",
       "       -2.8198462e-03, -2.5751747e-02,  2.1365875e-02,  2.3386410e-02,\n",
       "        5.8826292e-03,  1.1517048e-03,  8.0736224e-03,  6.3135545e-03,\n",
       "        5.6184287e-04,  1.2594709e-02, -9.3184374e-03,  8.8496581e-03,\n",
       "        1.2830015e-02, -4.5421008e-02,  1.5327450e-02, -2.7878373e-03,\n",
       "        9.2855981e-03, -1.2426099e-02,  1.1418364e-02,  1.7965680e-02,\n",
       "       -3.1376763e-03, -5.2187839e-03, -2.3139030e-02,  2.1577349e-02,\n",
       "        7.9591703e-03, -2.5343854e-02,  3.9033514e-02,  2.5946049e-03,\n",
       "        1.3424293e-02,  6.4202845e-03, -1.2605165e-02, -1.4805024e-03,\n",
       "        3.0539278e-02,  5.6491267e-02,  2.1421742e-02,  4.1805893e-02,\n",
       "        1.4407324e-03, -1.9856125e-02,  1.5838603e-02,  4.0122535e-02,\n",
       "       -2.5790187e-02, -3.2698616e-02, -2.1707822e-02,  2.6239343e-03,\n",
       "       -9.4606522e-03, -2.4174820e-03, -4.2855904e-02, -1.6496040e-02,\n",
       "        1.5080825e-02,  9.6487412e-03,  7.1527492e-03,  2.8743849e-03],\n",
       "      dtype=float32)"
      ]
     },
     "execution_count": 23,
     "metadata": {},
     "output_type": "execute_result"
    }
   ],
   "source": [
    "# 브레이브하트의 vector\n",
    "braveheart_vector "
   ]
  },
  {
   "cell_type": "code",
   "execution_count": 24,
   "id": "3f820d27",
   "metadata": {},
   "outputs": [],
   "source": [
    "# 영화 이름을 넣으면 추천정도를 알려주는 함수\n",
    "def score_movie(movie_name):\n",
    "    my_vector, movie_vector = als_model.user_factors[6041], als_model.item_factors[movie_name_to_id(movie_name)]\n",
    "    return np.dot(my_vector, movie_vector)"
   ]
  },
  {
   "cell_type": "code",
   "execution_count": 25,
   "id": "25ad1bb7",
   "metadata": {},
   "outputs": [
    {
     "name": "stdout",
     "output_type": "stream",
     "text": [
      "American Beauty (1999)  : 0.48415896\n",
      "Star Wars: Episode IV - A New Hope (1977)  : 0.2015116\n",
      "Star Wars: Episode V - The Empire Strikes Back (1980)  : 0.1297508\n",
      "Star Wars: Episode VI - Return of the Jedi (1983)  : 0.12689109\n",
      "Saving Private Ryan (1998)  : 0.44037175\n",
      "Terminator 2: Judgment Day (1991)  : 0.42966607\n",
      "Silence of the Lambs, The (1991)  : 0.039793663\n",
      "Raiders of the Lost Ark (1981)  : 0.1752045\n",
      "Back to the Future (1985)  : 0.21992731\n",
      "Matrix, The (1999)  : 0.25429612\n",
      "Jurassic Park (1993)  : 0.5250953\n",
      "Sixth Sense, The (1999)  : 0.07346399\n",
      "Fargo (1996)  : 0.07889685\n",
      "Braveheart (1995)  : 0.66898966\n",
      "Men in Black (1997)  : 0.37167332\n",
      "Schindler's List (1993)  : 0.12415741\n",
      "Princess Bride, The (1987)  : 0.10162842\n",
      "Shakespeare in Love (1998)  : 0.5784813\n",
      "L.A. Confidential (1997)  : 0.053043872\n",
      "Shawshank Redemption, The (1994)  : 0.15017885\n",
      "Godfather, The (1972)  : 0.66203165\n",
      "Groundhog Day (1993)  : 0.37348035\n",
      "E.T. the Extra-Terrestrial (1982)  : 0.18214084\n",
      "Being John Malkovich (1999)  : 0.25282386\n",
      "Ghostbusters (1984)  : 0.17358382\n",
      "Pulp Fiction (1994)  : -0.007070932\n",
      "Forrest Gump (1994)  : 0.26333353\n",
      "Terminator, The (1984)  : 0.014104218\n",
      "Toy Story (1995)  : 0.5116405\n",
      "Fugitive, The (1993)  : 0.21163481\n"
     ]
    }
   ],
   "source": [
    "for i in movie_top30.index:\n",
    "    tmp = movies[movies['movie_id']==i]['title'].values[0]\n",
    "    print(tmp,\" :\",  score_movie(tmp))"
   ]
  },
  {
   "cell_type": "markdown",
   "id": "2e75b3b6",
   "metadata": {},
   "source": [
    "### (8) 내가 좋아하는 영화와 비슷한 영화를 추천받아 봅시다."
   ]
  },
  {
   "cell_type": "code",
   "execution_count": 26,
   "id": "53e53edb",
   "metadata": {},
   "outputs": [
    {
     "data": {
      "text/plain": [
       "[(110, 0.99999994),\n",
       " (2028, 0.6753715),\n",
       " (589, 0.4869167),\n",
       " (480, 0.4613618),\n",
       " (1610, 0.3700254),\n",
       " (2858, 0.368671),\n",
       " (457, 0.36539423),\n",
       " (527, 0.34831727),\n",
       " (2571, 0.34660453),\n",
       " (1580, 0.34527937),\n",
       " (2887, 0.34229183),\n",
       " (989, 0.3321105),\n",
       " (266, 0.3258108),\n",
       " (1673, 0.3239434),\n",
       " (144, 0.32307002)]"
      ]
     },
     "execution_count": 26,
     "metadata": {},
     "output_type": "execute_result"
    }
   ],
   "source": [
    "# braveheart 와 비슷한 영화 추천\n",
    "favorite_movie = 'Braveheart (1995)'\n",
    "movie_id = movie_name_to_id(favorite_movie)\n",
    "similar_movie = als_model.similar_items(movie_id, N=15)\n",
    "similar_movie"
   ]
  },
  {
   "cell_type": "code",
   "execution_count": 27,
   "id": "3fbf0a67",
   "metadata": {},
   "outputs": [
    {
     "name": "stdout",
     "output_type": "stream",
     "text": [
      "Braveheart (1995)  : 0.99999994\n",
      "Saving Private Ryan (1998)  : 0.6753715\n",
      "Terminator 2: Judgment Day (1991)  : 0.4869167\n",
      "Jurassic Park (1993)  : 0.4613618\n",
      "Hunt for Red October, The (1990)  : 0.3700254\n",
      "American Beauty (1999)  : 0.368671\n",
      "Fugitive, The (1993)  : 0.36539423\n",
      "Schindler's List (1993)  : 0.34831727\n",
      "Matrix, The (1999)  : 0.34660453\n",
      "Men in Black (1997)  : 0.34527937\n",
      "Simon Sez (1999)  : 0.34229183\n",
      "Schlafes Bruder (Brother of Sleep) (1995)  : 0.3321105\n",
      "Legends of the Fall (1994)  : 0.3258108\n",
      "Boogie Nights (1997)  : 0.3239434\n",
      "Brothers McMullen, The (1995)  : 0.32307002\n"
     ]
    }
   ],
   "source": [
    "for i, k in similar_movie:\n",
    "    print(movies[movies['movie_id']==i]['title'].values[0],' :', k)"
   ]
  },
  {
   "cell_type": "code",
   "execution_count": 28,
   "id": "33333620",
   "metadata": {},
   "outputs": [
    {
     "data": {
      "text/html": [
       "<div>\n",
       "<style scoped>\n",
       "    .dataframe tbody tr th:only-of-type {\n",
       "        vertical-align: middle;\n",
       "    }\n",
       "\n",
       "    .dataframe tbody tr th {\n",
       "        vertical-align: top;\n",
       "    }\n",
       "\n",
       "    .dataframe thead th {\n",
       "        text-align: right;\n",
       "    }\n",
       "</style>\n",
       "<table border=\"1\" class=\"dataframe\">\n",
       "  <thead>\n",
       "    <tr style=\"text-align: right;\">\n",
       "      <th></th>\n",
       "      <th>title</th>\n",
       "      <th>genre</th>\n",
       "    </tr>\n",
       "  </thead>\n",
       "  <tbody>\n",
       "    <tr>\n",
       "      <th>108</th>\n",
       "      <td>Braveheart (1995)</td>\n",
       "      <td>Action|Drama|War</td>\n",
       "    </tr>\n",
       "    <tr>\n",
       "      <th>142</th>\n",
       "      <td>Brothers McMullen, The (1995)</td>\n",
       "      <td>Comedy</td>\n",
       "    </tr>\n",
       "    <tr>\n",
       "      <th>263</th>\n",
       "      <td>Legends of the Fall (1994)</td>\n",
       "      <td>Drama|Romance|War|Western</td>\n",
       "    </tr>\n",
       "    <tr>\n",
       "      <th>453</th>\n",
       "      <td>Fugitive, The (1993)</td>\n",
       "      <td>Action|Thriller</td>\n",
       "    </tr>\n",
       "    <tr>\n",
       "      <th>476</th>\n",
       "      <td>Jurassic Park (1993)</td>\n",
       "      <td>Action|Adventure|Sci-Fi</td>\n",
       "    </tr>\n",
       "    <tr>\n",
       "      <th>523</th>\n",
       "      <td>Schindler's List (1993)</td>\n",
       "      <td>Drama|War</td>\n",
       "    </tr>\n",
       "    <tr>\n",
       "      <th>585</th>\n",
       "      <td>Terminator 2: Judgment Day (1991)</td>\n",
       "      <td>Action|Sci-Fi|Thriller</td>\n",
       "    </tr>\n",
       "    <tr>\n",
       "      <th>977</th>\n",
       "      <td>Schlafes Bruder (Brother of Sleep) (1995)</td>\n",
       "      <td>Drama</td>\n",
       "    </tr>\n",
       "    <tr>\n",
       "      <th>1539</th>\n",
       "      <td>Men in Black (1997)</td>\n",
       "      <td>Action|Adventure|Comedy|Sci-Fi</td>\n",
       "    </tr>\n",
       "    <tr>\n",
       "      <th>1568</th>\n",
       "      <td>Hunt for Red October, The (1990)</td>\n",
       "      <td>Action|Thriller</td>\n",
       "    </tr>\n",
       "    <tr>\n",
       "      <th>1627</th>\n",
       "      <td>Boogie Nights (1997)</td>\n",
       "      <td>Drama</td>\n",
       "    </tr>\n",
       "    <tr>\n",
       "      <th>1959</th>\n",
       "      <td>Saving Private Ryan (1998)</td>\n",
       "      <td>Action|Drama|War</td>\n",
       "    </tr>\n",
       "    <tr>\n",
       "      <th>2502</th>\n",
       "      <td>Matrix, The (1999)</td>\n",
       "      <td>Action|Sci-Fi|Thriller</td>\n",
       "    </tr>\n",
       "    <tr>\n",
       "      <th>2789</th>\n",
       "      <td>American Beauty (1999)</td>\n",
       "      <td>Comedy|Drama</td>\n",
       "    </tr>\n",
       "    <tr>\n",
       "      <th>2818</th>\n",
       "      <td>Simon Sez (1999)</td>\n",
       "      <td>Drama</td>\n",
       "    </tr>\n",
       "  </tbody>\n",
       "</table>\n",
       "</div>"
      ],
      "text/plain": [
       "                                          title  \\\n",
       "108                           Braveheart (1995)   \n",
       "142               Brothers McMullen, The (1995)   \n",
       "263                  Legends of the Fall (1994)   \n",
       "453                        Fugitive, The (1993)   \n",
       "476                        Jurassic Park (1993)   \n",
       "523                     Schindler's List (1993)   \n",
       "585           Terminator 2: Judgment Day (1991)   \n",
       "977   Schlafes Bruder (Brother of Sleep) (1995)   \n",
       "1539                        Men in Black (1997)   \n",
       "1568           Hunt for Red October, The (1990)   \n",
       "1627                       Boogie Nights (1997)   \n",
       "1959                 Saving Private Ryan (1998)   \n",
       "2502                         Matrix, The (1999)   \n",
       "2789                     American Beauty (1999)   \n",
       "2818                           Simon Sez (1999)   \n",
       "\n",
       "                               genre  \n",
       "108                 Action|Drama|War  \n",
       "142                           Comedy  \n",
       "263        Drama|Romance|War|Western  \n",
       "453                  Action|Thriller  \n",
       "476          Action|Adventure|Sci-Fi  \n",
       "523                        Drama|War  \n",
       "585           Action|Sci-Fi|Thriller  \n",
       "977                            Drama  \n",
       "1539  Action|Adventure|Comedy|Sci-Fi  \n",
       "1568                 Action|Thriller  \n",
       "1627                           Drama  \n",
       "1959                Action|Drama|War  \n",
       "2502          Action|Sci-Fi|Thriller  \n",
       "2789                    Comedy|Drama  \n",
       "2818                           Drama  "
      ]
     },
     "execution_count": 28,
     "metadata": {},
     "output_type": "execute_result"
    }
   ],
   "source": [
    "#비슷한 영화 장르확인 \n",
    "\n",
    "movies[movies['movie_id'].isin([s[0] for s in similar_movie])][['title','genre']]"
   ]
  },
  {
   "cell_type": "markdown",
   "id": "edba8790",
   "metadata": {},
   "source": [
    "### (9) 내가 가장 좋아할 만한 영화들을 추천받아 봅시다."
   ]
  },
  {
   "cell_type": "code",
   "execution_count": 29,
   "id": "7012a3e6",
   "metadata": {},
   "outputs": [
    {
     "data": {
      "text/plain": [
       "[(1221, 0.5589933),\n",
       " (2858, 0.484159),\n",
       " (3114, 0.4576686),\n",
       " (2028, 0.4403717),\n",
       " (589, 0.42966604),\n",
       " (2355, 0.37491828),\n",
       " (1265, 0.37348032),\n",
       " (1580, 0.37167335),\n",
       " (2023, 0.29028964),\n",
       " (356, 0.26333356),\n",
       " (34, 0.2553589),\n",
       " (2571, 0.25429612),\n",
       " (2997, 0.25282386),\n",
       " (1259, 0.23477054),\n",
       " (1270, 0.21992731),\n",
       " (1721, 0.2169826),\n",
       " (457, 0.21163481),\n",
       " (2599, 0.20472074),\n",
       " (260, 0.20151162),\n",
       " (1610, 0.1957546)]"
      ]
     },
     "execution_count": 29,
     "metadata": {},
     "output_type": "execute_result"
    }
   ],
   "source": [
    "# user 6041(jyp)이 좋아할만한 영화를 추천\n",
    "user = 6041\n",
    "movie_recommended = als_model.recommend(user, csr_data, N=20, filter_already_liked_items=True)\n",
    "movie_recommended"
   ]
  },
  {
   "cell_type": "code",
   "execution_count": 30,
   "id": "82e8375e",
   "metadata": {},
   "outputs": [
    {
     "name": "stdout",
     "output_type": "stream",
     "text": [
      "Godfather: Part II, The (1974)  : 0.5589933\n",
      "American Beauty (1999)  : 0.484159\n",
      "Toy Story 2 (1999)  : 0.4576686\n",
      "Saving Private Ryan (1998)  : 0.4403717\n",
      "Terminator 2: Judgment Day (1991)  : 0.42966604\n",
      "Bug's Life, A (1998)  : 0.37491828\n",
      "Groundhog Day (1993)  : 0.37348032\n",
      "Men in Black (1997)  : 0.37167335\n",
      "Godfather: Part III, The (1990)  : 0.29028964\n",
      "Forrest Gump (1994)  : 0.26333356\n",
      "Babe (1995)  : 0.2553589\n",
      "Matrix, The (1999)  : 0.25429612\n",
      "Being John Malkovich (1999)  : 0.25282386\n",
      "Stand by Me (1986)  : 0.23477054\n",
      "Back to the Future (1985)  : 0.21992731\n",
      "Titanic (1997)  : 0.2169826\n",
      "Fugitive, The (1993)  : 0.21163481\n",
      "Election (1999)  : 0.20472074\n",
      "Star Wars: Episode IV - A New Hope (1977)  : 0.20151162\n",
      "Hunt for Red October, The (1990)  : 0.1957546\n"
     ]
    }
   ],
   "source": [
    "# 좋아할만한 영화와 수치 장르 확인\n",
    "for i, k in movie_recommended:\n",
    "    print(movies[movies['movie_id']==i]['title'].values[0],' :',k)"
   ]
  },
  {
   "cell_type": "code",
   "execution_count": 31,
   "id": "ee54856b",
   "metadata": {},
   "outputs": [
    {
     "data": {
      "text/html": [
       "<div>\n",
       "<style scoped>\n",
       "    .dataframe tbody tr th:only-of-type {\n",
       "        vertical-align: middle;\n",
       "    }\n",
       "\n",
       "    .dataframe tbody tr th {\n",
       "        vertical-align: top;\n",
       "    }\n",
       "\n",
       "    .dataframe thead th {\n",
       "        text-align: right;\n",
       "    }\n",
       "</style>\n",
       "<table border=\"1\" class=\"dataframe\">\n",
       "  <thead>\n",
       "    <tr style=\"text-align: right;\">\n",
       "      <th></th>\n",
       "      <th>title</th>\n",
       "      <th>genre</th>\n",
       "    </tr>\n",
       "  </thead>\n",
       "  <tbody>\n",
       "    <tr>\n",
       "      <th>33</th>\n",
       "      <td>Babe (1995)</td>\n",
       "      <td>Children's|Comedy|Drama</td>\n",
       "    </tr>\n",
       "    <tr>\n",
       "      <th>257</th>\n",
       "      <td>Star Wars: Episode IV - A New Hope (1977)</td>\n",
       "      <td>Action|Adventure|Fantasy|Sci-Fi</td>\n",
       "    </tr>\n",
       "    <tr>\n",
       "      <th>352</th>\n",
       "      <td>Forrest Gump (1994)</td>\n",
       "      <td>Comedy|Romance|War</td>\n",
       "    </tr>\n",
       "    <tr>\n",
       "      <th>453</th>\n",
       "      <td>Fugitive, The (1993)</td>\n",
       "      <td>Action|Thriller</td>\n",
       "    </tr>\n",
       "    <tr>\n",
       "      <th>585</th>\n",
       "      <td>Terminator 2: Judgment Day (1991)</td>\n",
       "      <td>Action|Sci-Fi|Thriller</td>\n",
       "    </tr>\n",
       "    <tr>\n",
       "      <th>1203</th>\n",
       "      <td>Godfather: Part II, The (1974)</td>\n",
       "      <td>Action|Crime|Drama</td>\n",
       "    </tr>\n",
       "    <tr>\n",
       "      <th>1239</th>\n",
       "      <td>Stand by Me (1986)</td>\n",
       "      <td>Adventure|Comedy|Drama</td>\n",
       "    </tr>\n",
       "    <tr>\n",
       "      <th>1245</th>\n",
       "      <td>Groundhog Day (1993)</td>\n",
       "      <td>Comedy|Romance</td>\n",
       "    </tr>\n",
       "    <tr>\n",
       "      <th>1250</th>\n",
       "      <td>Back to the Future (1985)</td>\n",
       "      <td>Comedy|Sci-Fi</td>\n",
       "    </tr>\n",
       "    <tr>\n",
       "      <th>1539</th>\n",
       "      <td>Men in Black (1997)</td>\n",
       "      <td>Action|Adventure|Comedy|Sci-Fi</td>\n",
       "    </tr>\n",
       "    <tr>\n",
       "      <th>1568</th>\n",
       "      <td>Hunt for Red October, The (1990)</td>\n",
       "      <td>Action|Thriller</td>\n",
       "    </tr>\n",
       "    <tr>\n",
       "      <th>1672</th>\n",
       "      <td>Titanic (1997)</td>\n",
       "      <td>Drama|Romance</td>\n",
       "    </tr>\n",
       "    <tr>\n",
       "      <th>1954</th>\n",
       "      <td>Godfather: Part III, The (1990)</td>\n",
       "      <td>Action|Crime|Drama</td>\n",
       "    </tr>\n",
       "    <tr>\n",
       "      <th>1959</th>\n",
       "      <td>Saving Private Ryan (1998)</td>\n",
       "      <td>Action|Drama|War</td>\n",
       "    </tr>\n",
       "    <tr>\n",
       "      <th>2286</th>\n",
       "      <td>Bug's Life, A (1998)</td>\n",
       "      <td>Animation|Children's|Comedy</td>\n",
       "    </tr>\n",
       "    <tr>\n",
       "      <th>2502</th>\n",
       "      <td>Matrix, The (1999)</td>\n",
       "      <td>Action|Sci-Fi|Thriller</td>\n",
       "    </tr>\n",
       "    <tr>\n",
       "      <th>2530</th>\n",
       "      <td>Election (1999)</td>\n",
       "      <td>Comedy</td>\n",
       "    </tr>\n",
       "    <tr>\n",
       "      <th>2789</th>\n",
       "      <td>American Beauty (1999)</td>\n",
       "      <td>Comedy|Drama</td>\n",
       "    </tr>\n",
       "    <tr>\n",
       "      <th>2928</th>\n",
       "      <td>Being John Malkovich (1999)</td>\n",
       "      <td>Comedy</td>\n",
       "    </tr>\n",
       "    <tr>\n",
       "      <th>3045</th>\n",
       "      <td>Toy Story 2 (1999)</td>\n",
       "      <td>Animation|Children's|Comedy</td>\n",
       "    </tr>\n",
       "  </tbody>\n",
       "</table>\n",
       "</div>"
      ],
      "text/plain": [
       "                                          title  \\\n",
       "33                                  Babe (1995)   \n",
       "257   Star Wars: Episode IV - A New Hope (1977)   \n",
       "352                         Forrest Gump (1994)   \n",
       "453                        Fugitive, The (1993)   \n",
       "585           Terminator 2: Judgment Day (1991)   \n",
       "1203             Godfather: Part II, The (1974)   \n",
       "1239                         Stand by Me (1986)   \n",
       "1245                       Groundhog Day (1993)   \n",
       "1250                  Back to the Future (1985)   \n",
       "1539                        Men in Black (1997)   \n",
       "1568           Hunt for Red October, The (1990)   \n",
       "1672                             Titanic (1997)   \n",
       "1954            Godfather: Part III, The (1990)   \n",
       "1959                 Saving Private Ryan (1998)   \n",
       "2286                       Bug's Life, A (1998)   \n",
       "2502                         Matrix, The (1999)   \n",
       "2530                            Election (1999)   \n",
       "2789                     American Beauty (1999)   \n",
       "2928                Being John Malkovich (1999)   \n",
       "3045                         Toy Story 2 (1999)   \n",
       "\n",
       "                                genre  \n",
       "33            Children's|Comedy|Drama  \n",
       "257   Action|Adventure|Fantasy|Sci-Fi  \n",
       "352                Comedy|Romance|War  \n",
       "453                   Action|Thriller  \n",
       "585            Action|Sci-Fi|Thriller  \n",
       "1203               Action|Crime|Drama  \n",
       "1239           Adventure|Comedy|Drama  \n",
       "1245                   Comedy|Romance  \n",
       "1250                    Comedy|Sci-Fi  \n",
       "1539   Action|Adventure|Comedy|Sci-Fi  \n",
       "1568                  Action|Thriller  \n",
       "1672                    Drama|Romance  \n",
       "1954               Action|Crime|Drama  \n",
       "1959                 Action|Drama|War  \n",
       "2286      Animation|Children's|Comedy  \n",
       "2502           Action|Sci-Fi|Thriller  \n",
       "2530                           Comedy  \n",
       "2789                     Comedy|Drama  \n",
       "2928                           Comedy  \n",
       "3045      Animation|Children's|Comedy  "
      ]
     },
     "execution_count": 31,
     "metadata": {},
     "output_type": "execute_result"
    }
   ],
   "source": [
    "#추천영화 장르 확인 \n",
    "movies[movies['movie_id'].isin([m[0] for m in movie_recommended])][['title','genre']]"
   ]
  },
  {
   "cell_type": "markdown",
   "id": "9c49d857",
   "metadata": {},
   "source": [
    "# 회고"
   ]
  },
  {
   "cell_type": "markdown",
   "id": "139c6392",
   "metadata": {},
   "source": [
    "  - 기분에 따라 바뀔 수도 있는 '선호도'라는 애매모호한 개념을 수치화 해서 추천을 한다는 게 어려운 일인 듯 하지만 비슷한 장르와 좋아할 만한 영화를 대체적으로 잘 뽑아내 주었다. 적어도 내가 '비선호하는' 장르의 영화는 추천되지 않은 것으로 보아 성능은 괜찮은 것 같다. \n",
    "<br>   \n",
    "\n",
    "  - 내가 선호하는 영화로 뽑은 5개의 영화가 장르가 여러가지인데, 그래서 그런지 브레이브하트와는 완전 다른 장르의 터미네이터, Sixth Sense 등이 추천되어 favourite 이 어떤 것이냐는것 보다 앞서 입력한 5개의 영화가 결과에 더 큰 영향을 준것으로 보인다. 앞으로 고잉디퍼와 아이펠톤 등을 거치며 더 적합한 코드, 모델설계를 구현하게 된다면 성능은 더 좋게 할 수 있을거라 믿는다. \n",
    "<br>   \n",
    "\n",
    "  - 금번 과제는 직전 몇개의 과제들보다 무겁지는 않아 많은 에러를 냈음에도 시간에 쫒기지 않고 해결하고 비교적 수월하게 결과를 도출 할 수 있었던 것 같다. 앞으로도 더 다양한 딥러닝 문제들을 시도해 보고 싶다는 생각이 들었다. \n",
    "  "
   ]
  },
  {
   "cell_type": "code",
   "execution_count": null,
   "id": "c9ece9dd",
   "metadata": {},
   "outputs": [],
   "source": []
  }
 ],
 "metadata": {
  "kernelspec": {
   "display_name": "Python 3 (ipykernel)",
   "language": "python",
   "name": "python3"
  },
  "language_info": {
   "codemirror_mode": {
    "name": "ipython",
    "version": 3
   },
   "file_extension": ".py",
   "mimetype": "text/x-python",
   "name": "python",
   "nbconvert_exporter": "python",
   "pygments_lexer": "ipython3",
   "version": "3.9.7"
  }
 },
 "nbformat": 4,
 "nbformat_minor": 5
}
